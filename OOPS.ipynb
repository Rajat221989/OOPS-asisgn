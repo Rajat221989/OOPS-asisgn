{
 "cells": [
  {
   "cell_type": "raw",
   "id": "2060c63f-c203-4774-a71d-06f58e8353ec",
   "metadata": {},
   "source": [
    "> Q1. What is Abstraction in OOps? Explain with an example."
   ]
  },
  {
   "cell_type": "raw",
   "id": "c4b0e98d-bede-446a-81d6-fcb81d3b9201",
   "metadata": {},
   "source": [
    "# Abstraction is used to hide the internal functionality of the function from the users. The users only interact with the basic implementation of the function, but inner working is hidden. User is familiar with that \"what function does\" but they don't know \"how it does.\" for example-When we use the TV remote to increase the volume. We don't know how pressing a key increases the volume of the TV. We only know to press the \"+\" button to increase the volume."
   ]
  },
  {
   "cell_type": "code",
   "execution_count": 2,
   "id": "e5ca5d51-75f9-4e84-86e6-13986a137064",
   "metadata": {},
   "outputs": [],
   "source": [
    "import abc\n",
    "class Transport:\n",
    "    @abc.abstractmethod\n",
    "    def four_wheeler(self):\n",
    "        pass\n",
    "    @abc.abstractmethod\n",
    "    def two_wheeler(self):\n",
    "        pass\n",
    "    \n",
    "    @abc.abstractmethod\n",
    "    def train(self):\n",
    "        pass\n",
    "    @abc.abstractmethod\n",
    "    def bus(self):\n",
    "        pass\n",
    "    @abc.abstractmethod\n",
    "    def air(self):\n",
    "        pass"
   ]
  },
  {
   "cell_type": "code",
   "execution_count": 10,
   "id": "2abc5cca-14e5-435a-90b1-07ae2de558a3",
   "metadata": {},
   "outputs": [],
   "source": [
    "class travel(Transport):\n",
    "    def four_wheeler(self):\n",
    "        return \"it costs 15Rs/Km\"\n",
    "    def two_wheeler(self):\n",
    "        return \"it costs 10Rs/Km\"\n",
    "    def train(self):\n",
    "        return \"it is cheap\"\n",
    "    def bus(self):\n",
    "        return \"it costs 5Rs/Km\"\n",
    "    def air(self):\n",
    "        return \"it is too costly\""
   ]
  },
  {
   "cell_type": "code",
   "execution_count": 11,
   "id": "8dba50f8-1147-415a-ac93-bece29b990d3",
   "metadata": {},
   "outputs": [
    {
     "data": {
      "text/plain": [
       "'it costs 15Rs/Km'"
      ]
     },
     "execution_count": 11,
     "metadata": {},
     "output_type": "execute_result"
    }
   ],
   "source": [
    "Vel=travel()\n",
    "Vel.four_wheeler()          "
   ]
  },
  {
   "cell_type": "code",
   "execution_count": 12,
   "id": "bbda6cfc-e865-4383-aead-5740131c75ae",
   "metadata": {},
   "outputs": [
    {
     "data": {
      "text/plain": [
       "'it is too costly'"
      ]
     },
     "execution_count": 12,
     "metadata": {},
     "output_type": "execute_result"
    }
   ],
   "source": [
    "Vel=travel()\n",
    "Vel.air()"
   ]
  },
  {
   "cell_type": "raw",
   "id": "da1959e5-48e3-4dd0-89cf-d214ca8c0d45",
   "metadata": {},
   "source": [
    "Q2. Differentiate between Abstraction and Encapsulation. Explain with an example."
   ]
  },
  {
   "cell_type": "raw",
   "id": "fa4823b0-95a4-4e1d-a523-626d289591ab",
   "metadata": {},
   "source": [
    "Definition-\n",
    "Abstraction is hiding the details and implementation of the code.\n",
    "Encapsulation is hiding the data and controlling the visibility of the code.\n",
    "Phase-\n",
    "Abstraction is a design level process.\n",
    "Encapsulation is an implementation level process.\n",
    "Pivotal Ability-\n",
    "Abstraction is concerned about what a class instance can do, instead of the implementation of the class.\n",
    "Encapsulation helps in data binding and control over maintaining the transparency of the data.\n",
    "Use Case-\n",
    "Abstraction is a design level process and it is used to reduce the complexity at the designing stage of a project.\n",
    "Encapsulation is an implementation level process, and it is used to provide privacy and maintain control over the transparency of data at the implementation stage of a project."
   ]
  },
  {
   "cell_type": "code",
   "execution_count": 22,
   "id": "a605afbd-1dc1-400a-a723-3210367089b2",
   "metadata": {},
   "outputs": [],
   "source": [
    "class Bank_account:\n",
    "    def __init__(self,balance):\n",
    "        self._balance=balance\n",
    "     \n",
    "    def deposite(self,amount):\n",
    "        self._balance=self._balance+amount\n",
    "     \n",
    "    def withdraw(self,amount):\n",
    "        if self._balance>=amount:\n",
    "            self._balance=self._balance-amount\n",
    "            return True\n",
    "        else:\n",
    "            return False\n",
    "    def get_balance(self):\n",
    "        return self._balance\n",
    "    "
   ]
  },
  {
   "cell_type": "code",
   "execution_count": 23,
   "id": "edd97a41-12e8-4368-a0d4-de0a7d6ed695",
   "metadata": {},
   "outputs": [],
   "source": [
    "rajat= Bank_account(10000)"
   ]
  },
  {
   "cell_type": "code",
   "execution_count": 24,
   "id": "7dc0ede7-f78e-44b7-9e08-338c1b79ec38",
   "metadata": {},
   "outputs": [
    {
     "data": {
      "text/plain": [
       "10000"
      ]
     },
     "execution_count": 24,
     "metadata": {},
     "output_type": "execute_result"
    }
   ],
   "source": [
    "rajat.get_balance()"
   ]
  },
  {
   "cell_type": "code",
   "execution_count": 25,
   "id": "4afdc4f5-9f5d-4dee-884c-0cda9184ceba",
   "metadata": {},
   "outputs": [
    {
     "data": {
      "text/plain": [
       "True"
      ]
     },
     "execution_count": 25,
     "metadata": {},
     "output_type": "execute_result"
    }
   ],
   "source": [
    "rajat.withdraw(5000)"
   ]
  },
  {
   "cell_type": "code",
   "execution_count": 26,
   "id": "3d20ada7-0d2c-4574-ab4b-0529de9e69a5",
   "metadata": {},
   "outputs": [
    {
     "data": {
      "text/plain": [
       "5000"
      ]
     },
     "execution_count": 26,
     "metadata": {},
     "output_type": "execute_result"
    }
   ],
   "source": [
    "rajat.get_balance()"
   ]
  },
  {
   "cell_type": "code",
   "execution_count": 27,
   "id": "0be9391d-24e7-4af3-a401-1b80fa96052d",
   "metadata": {},
   "outputs": [
    {
     "ename": "AttributeError",
     "evalue": "'Bank_account' object has no attribute 'balance'",
     "output_type": "error",
     "traceback": [
      "\u001b[0;31m---------------------------------------------------------------------------\u001b[0m",
      "\u001b[0;31mAttributeError\u001b[0m                            Traceback (most recent call last)",
      "Cell \u001b[0;32mIn[27], line 1\u001b[0m\n\u001b[0;32m----> 1\u001b[0m \u001b[43mrajat\u001b[49m\u001b[38;5;241;43m.\u001b[39;49m\u001b[43mbalance\u001b[49m()\n",
      "\u001b[0;31mAttributeError\u001b[0m: 'Bank_account' object has no attribute 'balance'"
     ]
    }
   ],
   "source": [
    "rajat.balance()"
   ]
  },
  {
   "cell_type": "code",
   "execution_count": 28,
   "id": "e7c37d40-65b1-4434-ba4d-87939c738b88",
   "metadata": {},
   "outputs": [],
   "source": [
    "# in this example i can not change the attribute of balce due to encapsulation."
   ]
  },
  {
   "cell_type": "markdown",
   "id": "83a510b1-4a4c-4c8d-a45d-f2c8612f4fad",
   "metadata": {},
   "source": [
    "Q3. What is abc module in python? Why is it used?"
   ]
  },
  {
   "cell_type": "raw",
   "id": "268455de-0c5e-4855-822b-2d633c98bf15",
   "metadata": {},
   "source": [
    "A class is called an Abstract class if it contains one or more abstract methods. An abstract method is a method that is declared, but contains no implementation. Abstract classes may not be instantiated, and its abstract methods must be implemented by its subclasses.The 'abc' module in Python library provides the infrastructure for defining custom abstract base classes.\n",
    "'abc' works by marking methods of the base class as abstract. This is done by @absttractmethod decorator. A concrete class which is a sub class of such abstract base class then implements the abstract base by overriding its abstract methods."
   ]
  },
  {
   "cell_type": "markdown",
   "id": "2826ceda-497c-4b1f-a8ac-cd41ee8fe35c",
   "metadata": {},
   "source": [
    "Q4. How can we achieve data abstraction?"
   ]
  },
  {
   "cell_type": "raw",
   "id": "655f0c98-b281-482e-b30f-e477ec0d98b7",
   "metadata": {},
   "source": [
    "Data Abstraction in Python can be achieved through creating abstract classes and inheriting them later.\n",
    "Abstract classes that cannot be instantiated. This means that we cannot create objects of an abstract class and these are only meant to be inherited. Then an object of the derived class is used to access the features of the base class. These are specifically defined to lay a foundation of other classes that exhibit common behavior or characteristics.\n",
    "Example where we create an abstract class Fruit. We derive two classes Mango and Orange from the Fruit class that implement the methods defined in this class. Here the Fruit class is the parent abstract class and the classes Mango and Apple become the sub/child classes. We won’t be able to access the methods of the Fruit class by simply creating an object, we will have to create the objects of the derived classes: Mango and Apple to access the methods."
   ]
  },
  {
   "cell_type": "markdown",
   "id": "3a93db65-4440-4a39-ba3f-916c523e34f3",
   "metadata": {},
   "source": [
    "Q5. Can we create an instance of an abstract class? Explain your answer."
   ]
  },
  {
   "cell_type": "markdown",
   "id": "4fd518df-3cdb-4aa6-a109-70010a0febdb",
   "metadata": {},
   "source": [
    "Abstract classes cannot be instantiated, but they can be subclassed. for example"
   ]
  },
  {
   "cell_type": "code",
   "execution_count": 32,
   "id": "ee7ac940-23ba-4e84-95a3-3d5838e7ccac",
   "metadata": {},
   "outputs": [],
   "source": [
    "import abc\n",
    "class Transport:\n",
    "    @abc.abstractmethod\n",
    "    def four_wheeler(self):\n",
    "        pass\n",
    "    @abc.abstractmethod\n",
    "    def two_wheeler(self):\n",
    "        pass\n",
    "    \n",
    "    @abc.abstractmethod\n",
    "    def train(self):\n",
    "        pass\n",
    "    @abc.abstractmethod\n",
    "    def bus(self):\n",
    "        pass\n",
    "    @abc.abstractmethod\n",
    "    def air(self):\n",
    "        pass"
   ]
  },
  {
   "cell_type": "code",
   "execution_count": 33,
   "id": "64f43315-89c8-4be0-ae01-90618d374f9d",
   "metadata": {},
   "outputs": [],
   "source": [
    "class travel(Transport):\n",
    "    def four_wheeler(self):\n",
    "        return \"it costs 15Rs/Km\"\n",
    "    def two_wheeler(self):\n",
    "        return \"it costs 10Rs/Km\"\n",
    "    def train(self):\n",
    "        return \"it is cheap\"\n",
    "    def bus(self):\n",
    "        return \"it costs 5Rs/Km\"\n",
    "    def air(self):\n",
    "        return \"it is too costly\""
   ]
  },
  {
   "cell_type": "code",
   "execution_count": 38,
   "id": "cd86a405-8150-4a5c-8f02-64961a18801e",
   "metadata": {},
   "outputs": [
    {
     "ename": "AttributeError",
     "evalue": "'Transport' object has no attribute 'Transport'",
     "output_type": "error",
     "traceback": [
      "\u001b[0;31m---------------------------------------------------------------------------\u001b[0m",
      "\u001b[0;31mAttributeError\u001b[0m                            Traceback (most recent call last)",
      "Cell \u001b[0;32mIn[38], line 1\u001b[0m\n\u001b[0;32m----> 1\u001b[0m \u001b[43mVel\u001b[49m\u001b[38;5;241;43m.\u001b[39;49m\u001b[43mTransport\u001b[49m() \n",
      "\u001b[0;31mAttributeError\u001b[0m: 'Transport' object has no attribute 'Transport'"
     ]
    }
   ],
   "source": [
    "Vel.Transport() "
   ]
  },
  {
   "cell_type": "raw",
   "id": "96c114ae-0dda-4bb9-b61b-45afca8f5356",
   "metadata": {},
   "source": [
    "# Now in this example i can not initiate class transport as it is abtract class but i can initiate its subclasses which are two_wheeler,four_wheeler etc."
   ]
  }
 ],
 "metadata": {
  "kernelspec": {
   "display_name": "Python 3 (ipykernel)",
   "language": "python",
   "name": "python3"
  },
  "language_info": {
   "codemirror_mode": {
    "name": "ipython",
    "version": 3
   },
   "file_extension": ".py",
   "mimetype": "text/x-python",
   "name": "python",
   "nbconvert_exporter": "python",
   "pygments_lexer": "ipython3",
   "version": "3.10.8"
  }
 },
 "nbformat": 4,
 "nbformat_minor": 5
}
